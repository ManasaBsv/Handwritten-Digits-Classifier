{
 "cells": [
  {
   "cell_type": "code",
   "execution_count": 1,
   "metadata": {},
   "outputs": [],
   "source": [
    "#Import tensorflow\n",
    "import tensorflow as tf\n"
   ]
  },
  {
   "cell_type": "code",
   "execution_count": 3,
   "metadata": {},
   "outputs": [],
   "source": [
    "mnist = tf.keras.datasets.mnist"
   ]
  },
  {
   "cell_type": "code",
   "execution_count": 4,
   "metadata": {},
   "outputs": [
    {
     "name": "stdout",
     "output_type": "stream",
     "text": [
      "Downloading data from https://storage.googleapis.com/tensorflow/tf-keras-datasets/mnist.npz\n",
      "11493376/11490434 [==============================] - 105s 9us/step\n"
     ]
    }
   ],
   "source": [
    "(X_train,Y_train),(X_test,Y_test) = mnist.load_data()"
   ]
  },
  {
   "cell_type": "code",
   "execution_count": 10,
   "metadata": {},
   "outputs": [
    {
     "name": "stdout",
     "output_type": "stream",
     "text": [
      "X_train:  (60000, 28, 28)   Type :  <class 'numpy.ndarray'>\n",
      "X_test:  (10000, 28, 28)   Type :  <class 'numpy.ndarray'>\n",
      "Y_train:  (60000,)   Type :  <class 'numpy.ndarray'>\n",
      "Y_test:  (10000,)   Type :  <class 'numpy.ndarray'>\n"
     ]
    }
   ],
   "source": [
    "#Shapes of Training and Test sets\n",
    "print(\"X_train: \",X_train.shape, \"  Type : \",type(X_train))\n",
    "print(\"X_test: \",X_test.shape, \"  Type : \",type(X_test))\n",
    "print(\"Y_train: \",Y_train.shape ,\"  Type : \",type(Y_train))\n",
    "print(\"Y_test: \",Y_test.shape,\"  Type : \",type(Y_test))"
   ]
  },
  {
   "cell_type": "code",
   "execution_count": 11,
   "metadata": {},
   "outputs": [],
   "source": [
    "X_train,X_test = X_train/255,X_test/255"
   ]
  },
  {
   "cell_type": "code",
   "execution_count": 31,
   "metadata": {},
   "outputs": [],
   "source": [
    "#Building the model\n",
    "model = tf.keras.models.Sequential([\n",
    "    tf.keras.layers.Flatten(input_shape=(28,28)),\n",
    "    tf.keras.layers.Dense(128,activation='relu'),\n",
    "    tf.keras.layers.Dropout(0.4),\n",
    "    tf.keras.layers.Dense(10,activation='softmax')\n",
    "])"
   ]
  },
  {
   "cell_type": "code",
   "execution_count": 32,
   "metadata": {},
   "outputs": [
    {
     "name": "stdout",
     "output_type": "stream",
     "text": [
      "Epoch 1/10\n",
      "1875/1875 [==============================] - 6s 3ms/step - loss: 0.3567 - accuracy: 0.8939 - val_loss: 0.1548 - val_accuracy: 0.9541\n",
      "Epoch 2/10\n",
      "1875/1875 [==============================] - 6s 3ms/step - loss: 0.1911 - accuracy: 0.9434 - val_loss: 0.1197 - val_accuracy: 0.9617\n",
      "Epoch 3/10\n",
      "1875/1875 [==============================] - 6s 3ms/step - loss: 0.1546 - accuracy: 0.9531 - val_loss: 0.1017 - val_accuracy: 0.9683\n",
      "Epoch 4/10\n",
      "1875/1875 [==============================] - 6s 3ms/step - loss: 0.1345 - accuracy: 0.9593 - val_loss: 0.0902 - val_accuracy: 0.9726\n",
      "Epoch 5/10\n",
      "1875/1875 [==============================] - 6s 3ms/step - loss: 0.1213 - accuracy: 0.9622 - val_loss: 0.0804 - val_accuracy: 0.9761\n",
      "Epoch 6/10\n",
      "1875/1875 [==============================] - 6s 3ms/step - loss: 0.1113 - accuracy: 0.9657 - val_loss: 0.0846 - val_accuracy: 0.9751\n",
      "Epoch 7/10\n",
      "1875/1875 [==============================] - 7s 3ms/step - loss: 0.1025 - accuracy: 0.9679 - val_loss: 0.0829 - val_accuracy: 0.9746\n",
      "Epoch 8/10\n",
      "1875/1875 [==============================] - 7s 4ms/step - loss: 0.0976 - accuracy: 0.9692 - val_loss: 0.0783 - val_accuracy: 0.9773\n",
      "Epoch 9/10\n",
      "1875/1875 [==============================] - 6s 3ms/step - loss: 0.0908 - accuracy: 0.9716 - val_loss: 0.0778 - val_accuracy: 0.9781\n",
      "Epoch 10/10\n",
      "1875/1875 [==============================] - 6s 3ms/step - loss: 0.0887 - accuracy: 0.9724 - val_loss: 0.0753 - val_accuracy: 0.9795\n"
     ]
    }
   ],
   "source": [
    "# Compile the model\n",
    "\n",
    "model.compile(optimizer='adam', loss='sparse_categorical_crossentropy', metrics = ['accuracy'])\n",
    "\n",
    "#Train the model\n",
    "\n",
    "r = model.fit(X_train,Y_train, validation_data = (X_test,Y_test),epochs = 10)"
   ]
  },
  {
   "cell_type": "code",
   "execution_count": 33,
   "metadata": {},
   "outputs": [
    {
     "name": "stdout",
     "output_type": "stream",
     "text": [
      "313/313 [==============================] - 1s 2ms/step - loss: 0.0753 - accuracy: 0.9795\n",
      "[0.07532517611980438, 0.9794999957084656]\n"
     ]
    }
   ],
   "source": [
    "#Evaluate the model\n",
    "print(model.evaluate(X_test,Y_test))"
   ]
  },
  {
   "cell_type": "code",
   "execution_count": 35,
   "metadata": {},
   "outputs": [
    {
     "data": {
      "text/plain": [
       "<matplotlib.legend.Legend at 0x21404e8e2c8>"
      ]
     },
     "execution_count": 35,
     "metadata": {},
     "output_type": "execute_result"
    },
    {
     "data": {
      "image/png": "[encoded data removed]",
      "text/plain": [
       "<Figure size 432x288 with 1 Axes>"
      ]
     },
     "metadata": {
      "needs_background": "light"
     },
     "output_type": "display_data"
    }
   ],
   "source": [
    "#Plot loss per iteration\n",
    "import matplotlib.pyplot as plt\n",
    "\n",
    "plt.plot(r.history['loss'],label='loss')\n",
    "plt.plot(r.history['val_loss'],label='val-loss')\n",
    "plt.ylim((0.01,0.30))\n",
    "plt.legend()"
   ]
  },
  {
   "cell_type": "code",
   "execution_count": 34,
   "metadata": {},
   "outputs": [
    {
     "data": {
      "text/plain": [
       "<matplotlib.legend.Legend at 0x21404ec19c8>"
      ]
     },
     "execution_count": 34,
     "metadata": {},
     "output_type": "execute_result"
    },
    {
     "data": {
      "image/png": "[encoded data removed]",
      "text/plain": [
       "<Figure size 432x288 with 1 Axes>"
      ]
     },
     "metadata": {
      "needs_background": "light"
     },
     "output_type": "display_data"
    }
   ],
   "source": [
    "#Plot accuracy per iteration\n",
    "plt.plot(r.history['accuracy'],label='accuracy')\n",
    "plt.plot(r.history['val_accuracy'],label='val_accuracy')\n",
    "plt.ylim((0.8,1))\n",
    "plt.legend()"
   ]
  },
  {
   "cell_type": "code",
   "execution_count": 60,
   "metadata": {},
   "outputs": [
    {
     "name": "stdout",
     "output_type": "stream",
     "text": [
      "Confusion matrix without Normalization\n",
      "[[ 972    0    2    2    0    1    1    1    1    0]\n",
      " [   0 1126    4    0    0    0    1    0    4    0]\n",
      " [   4    1 1010    1    4    0    2    6    4    0]\n",
      " [   0    0    3  991    0    4    0    5    4    3]\n",
      " [   0    0    3    0  965    0    5    1    0    8]\n",
      " [   2    0    0    7    2  870    4    2    4    1]\n",
      " [   5    3    1    2    3    8  936    0    0    0]\n",
      " [   1    5   11    3    1    0    0 1005    0    2]\n",
      " [   4    0    4    7    4    3    0    3  945    4]\n",
      " [   4    3    0    7    9    5    0    5    1  975]]\n"
     ]
    },
    {
     "data": {
      "image/png": "[encoded data removed]",
      "text/plain": [
       "<Figure size 432x288 with 2 Axes>"
      ]
     },
     "metadata": {
      "needs_background": "light"
     },
     "output_type": "display_data"
    }
   ],
   "source": [
    "#Let's see the confusion matrix\n",
    "import numpy as np\n",
    "from sklearn.metrics import confusion_matrix\n",
    "import itertools\n",
    "\n",
    "def plot_confusion_matrix(cm,classes,normalize=False,title='Confusion matrix',cmap=plt.cm.Blues):\n",
    "    \n",
    "    if normalize ==True:\n",
    "        cm = cm.astype('float')/cm.sum(axis=1)[:,np.newaxis]\n",
    "        print('Confusion matrix with Normalization')\n",
    "    else:\n",
    "        print('Confusion matrix without Normalization')\n",
    "        \n",
    "    print(cm)\n",
    "    plt.imshow(cm,interpolation='nearest',cmap=cmap)\n",
    "    ticks = np.arange(len(classes))\n",
    "    plt.xticks(ticks,classes)\n",
    "    plt.yticks(ticks,classes)\n",
    "    plt.xlabel('Prediction')\n",
    "    plt.ylabel('Truth')\n",
    "    thres = cm.max()/2\n",
    "    \n",
    "    for i,j in itertools.product(range(cm.shape[0]),range(cm.shape[1])):\n",
    "        plt.text(i,j,cm[i,j],horizontalalignment = 'center', color = 'white' if cm[i,j]>thres else 'black')\n",
    "        \n",
    "    plt.colorbar()\n",
    "        \n",
    "p_test = model.predict(X_test)    \n",
    "p_test = p_test.argmax(axis = 1)\n",
    "cm = confusion_matrix(Y_test,p_test)\n",
    "plot_confusion_matrix(cm,list(range(10)))"
   ]
  },
  {
   "cell_type": "code",
   "execution_count": 80,
   "metadata": {},
   "outputs": [
    {
     "data": {
      "text/plain": [
       "Text(0.5, 1.0, 'Predicted :3, Actual:6')"
      ]
     },
     "execution_count": 80,
     "metadata": {},
     "output_type": "execute_result"
    },
    {
     "data": {
      "image/png": "[encoded data removed]",
      "text/plain": [
       "<Figure size 432x288 with 1 Axes>"
      ]
     },
     "metadata": {
      "needs_background": "light"
     },
     "output_type": "display_data"
    }
   ],
   "source": [
    "#Let's look at some examples where images are being mis-classifiedd\n",
    "misc = np.where(p_test!=Y_test)[0]\n",
    "i = np.random.choice(misc)\n",
    "plt.imshow(X_test[i],cmap='gray')\n",
    "plt.title('Predicted :{}, Actual:{}'.format(p_test[i],Y_test[i]))"
   ]
  },
  {
   "cell_type": "code",
   "execution_count": 85,
   "metadata": {},
   "outputs": [
    {
     "data": {
      "text/plain": [
       "Text(0.5, 1.0, 'Predicted :2, Actual:2')"
      ]
     },
     "execution_count": 85,
     "metadata": {},
     "output_type": "execute_result"
    },
    {
     "data": {
      "image/png": "[encoded data removed]",
      "text/plain": [
       "<Figure size 432x288 with 1 Axes>"
      ]
     },
     "metadata": {
      "needs_background": "light"
     },
     "output_type": "display_data"
    }
   ],
   "source": [
    "#Examples , predicted correctly\n",
    "misc = np.where(p_test==Y_test)[0]\n",
    "i = np.random.choice(misc)\n",
    "plt.imshow(X_test[i],cmap='gray')\n",
    "plt.title('Predicted :{}, Actual:{}'.format(p_test[i],Y_test[i]))"
   ]
  },
  {
   "cell_type": "code",
   "execution_count": null,
   "metadata": {},
   "outputs": [],
   "source": []
  }
 ],
 "metadata": {
  "kernelspec": {
   "display_name": "new",
   "language": "python",
   "name": "new"
  },
  "language_info": {
   "codemirror_mode": {
    "name": "ipython",
    "version": 3
   },
   "file_extension": ".py",
   "mimetype": "text/x-python",
   "name": "python",
   "nbconvert_exporter": "python",
   "pygments_lexer": "ipython3",
   "version": "3.7.6"
  }
 },
 "nbformat": 4,
 "nbformat_minor": 2
}
